{
 "cells": [
  {
   "cell_type": "code",
   "execution_count": 5,
   "metadata": {},
   "outputs": [],
   "source": [
    "from fastapi import FastAPI\n",
    "import pandas as pd\n",
    "#import pickle"
   ]
  },
  {
   "cell_type": "code",
   "execution_count": 6,
   "metadata": {},
   "outputs": [],
   "source": [
    "app = FastAPI()\n",
    "# http://127.0.0.1:8000 "
   ]
  },
  {
   "cell_type": "code",
   "execution_count": 125,
   "metadata": {},
   "outputs": [
    {
     "name": "stderr",
     "output_type": "stream",
     "text": [
      "C:\\Users\\Daumian Ruiz\\AppData\\Local\\Temp\\ipykernel_3616\\4208819685.py:3: DtypeWarning: Columns (5,10) have mixed types. Specify dtype option on import or set low_memory=False.\n",
      "  movies_df = pd.read_csv(ruta_movies_df)\n"
     ]
    }
   ],
   "source": [
    "# Importamos dataset\n",
    "ruta_movies_df = r\"csv\\dmovies_df_limpio.csv\"\n",
    "movies_df = pd.read_csv(ruta_movies_df)\n",
    "movies_df['release_date'] = pd.to_datetime(movies_df['release_date'], format='%Y-%m-%d', errors='coerce')\n",
    "\n",
    "ruta_credits_df = r\"csv\\dcredits_limpio.csv\"\n",
    "credits_df = pd.read_csv(ruta_credits_df)\n",
    "\n",
    "#Df = pd.read_csv(r'Df_recomendacion.csv')\n",
    "\n",
    "#with open('similarity_matrix.pickle', 'rb') as f:\n",
    " #   cosine_sim = pickle.load(f)\n"
   ]
  },
  {
   "cell_type": "code",
   "execution_count": 61,
   "metadata": {},
   "outputs": [],
   "source": [
    "#def cantidad_filmaciones_mes( Mes ): Se ingresa un mes en idioma Español. \n",
    "# Debe devolver la cantidad de películas que \n",
    "# fueron estrenadas en el mes consultado en la totalidad del dataset.\n",
    "\n",
    "\n",
    "\n",
    "def peliculas_mes(mes:str):\n",
    "   meses = {'enero': 1, 'febrero': 2, 'marzo': 3, 'abril': 4, 'mayo': 5, 'junio': 6,'julio': 7, 'agosto': 8, 'septiembre': 9, 'octubre': 10, 'noviembre': 11, 'diciembre': 12}\n",
    "   mes_numerico = meses.get(mes.lower())\n",
    "\n",
    "\n",
    "   #Prevencion de errores\n",
    "   if mes_numerico is None:\n",
    "      return \"error: Dato erroneo, por favor envia un dato en formato texto, por ejemplo 'febrero'\" \n",
    "\n",
    "   peliculas_en_este_mes = movies_df[movies_df['release_date'].dt.month == mes_numerico]\n",
    "   num_peliculas = len(peliculas_en_este_mes)\n",
    "   #return\n",
    "   return {f'el mes de {mes} se extrenaron {num_peliculas} peliculas'}  \n",
    "   "
   ]
  },
  {
   "cell_type": "code",
   "execution_count": null,
   "metadata": {},
   "outputs": [],
   "source": [
    "def buscar_titulo(texto, df):\n",
    "    resultados = []\n",
    "    for index, row in df.iterrows():\n",
    "        titulo = row['title']\n",
    "        fecha_lanzamiento = row['release_date']\n",
    "        calificacion = row['vote_average']\n",
    "        \n",
    "        if texto.lower() in titulo.lower():\n",
    "            resultado = f\"Título: {titulo}\\nFecha de lanzamiento: {fecha_lanzamiento}\\nCalificación: {calificacion}\\n\"\n",
    "            resultados.append(resultado)\n",
    "    \n",
    "    return '\\n'.join(resultados)\n"
   ]
  },
  {
   "cell_type": "code",
   "execution_count": 63,
   "metadata": {},
   "outputs": [],
   "source": [
    "@app.get('/cantidad_filmaciones_mes/{mes}')\n",
    "async def cantidad_filmaciones_mes(mes: str):\n",
    "   can_peliculas=peliculas_mes(mes)\n",
    "   return can_peliculas"
   ]
  },
  {
   "cell_type": "code",
   "execution_count": 65,
   "metadata": {},
   "outputs": [],
   "source": [
    "def peliculas_dia(dia:int):\n",
    "   dia_numerico = dia\n",
    "\n",
    "   #Prevencion de errores\n",
    "   if dia_numerico is None:\n",
    "      return \"error: Dato erroneo, por favor envia un dato en formato numero, desde el 1 al 31\" \n",
    "\n",
    "   peliculas_en_este_dia = movies_df[movies_df['release_date'].dt.day == dia_numerico]\n",
    "   num_peliculas = len(peliculas_en_este_dia)\n",
    "   #return\n",
    "   return {f'el dia {dia} del mes, se extrenaron {num_peliculas} peliculas'}  "
   ]
  },
  {
   "cell_type": "code",
   "execution_count": 107,
   "metadata": {},
   "outputs": [],
   "source": [
    "def pelicula_datos(titulo:str):\n",
    "    coincidencias = movies_df[movies_df['title'].str.contains(titulo, case=False)]\n",
    "    resultados = coincidencias[['title', 'release_year', 'vote_average']].values.tolist()\n",
    "    resultados_formateados = '\\n'.join([f\"Título: {r[0]} | Fecha de lanzamiento: {r[1]} | Calificación: {r[2]}\" for r in resultados])\n",
    "    return resultados_formateados"
   ]
  },
  {
   "cell_type": "code",
   "execution_count": 112,
   "metadata": {},
   "outputs": [
    {
     "name": "stdout",
     "output_type": "stream",
     "text": [
      "Título: The Nines | Fecha de lanzamiento: 2007.0 | Calificación: 6.1\n"
     ]
    }
   ],
   "source": [
    "texto_buscado = \"nines\"  \n",
    "resultados = pelicula_datos(texto_buscado)\n",
    "\n",
    "print(resultados)"
   ]
  },
  {
   "cell_type": "code",
   "execution_count": 118,
   "metadata": {},
   "outputs": [],
   "source": [
    "def votos_titulo(titulo:str):\n",
    "    coincidencias = movies_df[(movies_df['title'].str.contains(titulo, case=False)) & (movies_df['vote_count'] > 2000)]\n",
    "    resultados = coincidencias[['title', 'vote_average', 'vote_count']].values.tolist()\n",
    "    resultados_formateados = '\\n'.join([f\"Título: {r[0]} | Puntuacion: {r[1]} | Cantidad de votos: {r[2]}\" for r in resultados])\n",
    "    return resultados_formateados"
   ]
  },
  {
   "cell_type": "code",
   "execution_count": 122,
   "metadata": {},
   "outputs": [
    {
     "name": "stdout",
     "output_type": "stream",
     "text": [
      "Título: Twelve Monkeys | Puntuacion: 7.4 | Cantidad de votos: 2470.0\n",
      "Título: The Empire Strikes Back | Puntuacion: 8.2 | Cantidad de votos: 5998.0\n",
      "Título: Full Metal Jacket | Puntuacion: 7.9 | Cantidad de votos: 2595.0\n",
      "Título: Princess Mononoke | Puntuacion: 8.2 | Cantidad de votos: 2041.0\n",
      "Título: Taken | Puntuacion: 7.2 | Cantidad de votos: 4444.0\n",
      "Título: Taken 2 | Puntuacion: 6.1 | Cantidad de votos: 2783.0\n",
      "Título: Taken 3 | Puntuacion: 6.1 | Cantidad de votos: 2225.0\n",
      "Título: Star Wars: The Force Awakens | Puntuacion: 7.5 | Cantidad de votos: 7993.0\n",
      "Título: Fifty Shades Darker | Puntuacion: 6.0 | Cantidad de votos: 2341.0\n"
     ]
    }
   ],
   "source": [
    "texto_buscado = \"ke\"  \n",
    "resultados = votos_titulo(texto_buscado)\n",
    "\n",
    "print(resultados)"
   ]
  },
  {
   "cell_type": "code",
   "execution_count": 130,
   "metadata": {},
   "outputs": [],
   "source": [
    "def obtener_informacion_actor(actor_nombre):\n",
    "    coincidencias = credits_df[credits_df['cast'].str.contains(actor_nombre, case=False)]\n",
    "    ids_peliculas = coincidencias['id'].tolist()\n",
    "    peliculas_participadas = movies_df[movies_df['id'].isin(ids_peliculas)]\n",
    "    num_peliculas = len(peliculas_participadas)\n",
    "    suma_recaudacion = peliculas_participadas['return_of_invertion'].sum()\n",
    "    \n",
    "    return actor_nombre, num_peliculas, suma_recaudacion\n"
   ]
  },
  {
   "cell_type": "code",
   "execution_count": 145,
   "metadata": {},
   "outputs": [
    {
     "name": "stdout",
     "output_type": "stream",
     "text": [
      "Liam N participó en 126 películas y recaudó un total de 184.43293214931893.\n"
     ]
    }
   ],
   "source": [
    "actor_buscado = \"Liam N\"\n",
    "resultado = obtener_informacion_actor(actor_buscado)\n",
    "nombre_actor, num_peliculas, recaucacion = resultado\n",
    "print(f\"{nombre_actor} participó en {num_peliculas} películas y recaudó un total de {recaucacion}.\")"
   ]
  },
  {
   "cell_type": "code",
   "execution_count": 215,
   "metadata": {},
   "outputs": [],
   "source": [
    "def get_director(director_nombre):\n",
    "\n",
    "    coincidencias = credits_df[credits_df['crew'].str.contains(director_nombre, case=False)]   \n",
    "    ids_peliculas = coincidencias['id'].tolist()\n",
    "    peliculas_dirigidas = movies_df[movies_df['id'].isin(ids_peliculas)]\n",
    "    datos_mostrar = peliculas_dirigidas[['title', 'release_year','revenue','budget','return_of_invertion']].values.tolist()\n",
    "    resultados_sumados = '\\n'.join([f\"Título: {r[0]} | Lanzamiento: {r[1]} | Recaudacion: {r[2]} | Presupuesto: {r[3]} |Return of Invertion: {r[4]} | \" for r in datos_mostrar])\n",
    "    \n",
    "    suma_recaudacion = peliculas_dirigidas['return_of_invertion'].sum()\n",
    "    Titulo = f'{director_nombre} ha recaudado un total de {suma_recaudacion} dirigiendo :'\n",
    "    final_director = Titulo + \"\\n\" + resultados_sumados\n",
    "\n",
    "    return final_director"
   ]
  },
  {
   "cell_type": "code",
   "execution_count": 216,
   "metadata": {},
   "outputs": [
    {
     "name": "stdout",
     "output_type": "stream",
     "text": [
      "Mel G ha recaudado un total de 35.59412502777778 dirigiendo :\n",
      "Título: Braveheart | Lanzamiento: 1995.0 | Recaudacion: 210000000.0 | Presupuesto: 72000000 |Return of Invertion: 2.9166666666666665 | \n",
      "Título: The Man without a Face | Lanzamiento: 1993.0 | Recaudacion: 24760338.0 | Presupuesto: 0 |Return of Invertion: 0.0 | \n",
      "Título: One Eight Seven | Lanzamiento: 1997.0 | Recaudacion: 5716080.0 | Presupuesto: 20000000 |Return of Invertion: 0.285804 | \n",
      "Título: Hang 'em High | Lanzamiento: 1968.0 | Recaudacion: 6800000.0 | Presupuesto: 1800000 |Return of Invertion: 3.7777777777777777 | \n",
      "Título: Snow Dogs | Lanzamiento: 2002.0 | Recaudacion: 0.0 | Presupuesto: 33000000 |Return of Invertion: 0.0 | \n",
      "Título: The Singing Detective | Lanzamiento: 2003.0 | Recaudacion: 0.0 | Presupuesto: 0 |Return of Invertion: 0.0 | \n",
      "Título: The Passion of the Christ | Lanzamiento: 2004.0 | Recaudacion: 611899420.0 | Presupuesto: 30000000 |Return of Invertion: 20.39664733333333 | \n",
      "Título: Paparazzi | Lanzamiento: 2004.0 | Recaudacion: 16605763.0 | Presupuesto: 20000000 |Return of Invertion: 0.83028815 | \n",
      "Título: Apocalypto | Lanzamiento: 2006.0 | Recaudacion: 120175290.0 | Presupuesto: 40000000 |Return of Invertion: 3.00438225 | \n",
      "Título: Get the Gringo | Lanzamiento: 2012.0 | Recaudacion: 0.0 | Presupuesto: 35000000 |Return of Invertion: 0.0 | \n",
      "Título: Blue Ruin | Lanzamiento: 2014.0 | Recaudacion: 258384.0 | Presupuesto: 0 |Return of Invertion: 0.0 | \n",
      "Título: Stonehearst Asylum | Lanzamiento: 2014.0 | Recaudacion: 0.0 | Presupuesto: 0 |Return of Invertion: 0.0 | \n",
      "Título: Evel Knievel | Lanzamiento: 2004.0 | Recaudacion: 0.0 | Presupuesto: 0 |Return of Invertion: 0.0 | \n",
      "Título: The Three Stooges | Lanzamiento: 2000.0 | Recaudacion: 0.0 | Presupuesto: 0 |Return of Invertion: 0.0 | \n",
      "Título: Hacksaw Ridge | Lanzamiento: 2016.0 | Recaudacion: 175302354.0 | Presupuesto: 40000000 |Return of Invertion: 4.38255885 | \n"
     ]
    }
   ],
   "source": [
    "director_buscado = \"Mel G\"  # Nombre del actor que deseas buscar\n",
    "resultados = get_director(director_buscado)  # credits_df y movies_df son tus DataFrames\n",
    "print(resultados)"
   ]
  },
  {
   "cell_type": "code",
   "execution_count": 135,
   "metadata": {},
   "outputs": [],
   "source": [
    "def buscar_actor(actor_nombre):\n",
    "    coincidencias = credits_df[credits_df['cast'].str.contains(actor_nombre, case=False)]\n",
    "    ids_peliculas = coincidencias['id'].tolist()\n",
    "    peliculas_participadas = movies_df[movies_df['id'].isin(ids_peliculas)]\n",
    "    titulos_peliculas = peliculas_participadas['title'].tolist()\n",
    "    return titulos_peliculas\n"
   ]
  },
  {
   "cell_type": "code",
   "execution_count": 139,
   "metadata": {},
   "outputs": [
    {
     "name": "stdout",
     "output_type": "stream",
     "text": [
      "Películas en las que ha participado Chris Pratt:\n",
      "Strangers with Candy\n",
      "Wanted\n",
      "Bride Wars\n",
      "Jennifer's Body\n",
      "Take Me Home Tonight\n",
      "Moneyball\n",
      "What's Your Number?\n",
      "The Five-Year Engagement\n",
      "10 Years\n",
      "Zero Dark Thirty\n",
      "Movie 43\n",
      "Wieners\n",
      "Deep in the Valley\n",
      "Delivery Man\n",
      "Her\n",
      "The Lego Movie\n",
      "Guardians of the Galaxy\n",
      "Jurassic World\n",
      "Guardians of the Galaxy Vol. 2\n",
      "Jem and the Holograms\n",
      "Path of Destruction\n",
      "The Magnificent Seven\n",
      "Marvel: 75 Years, From Pulp to Pop!\n",
      "Marvel Studios: Assembling a Universe\n",
      "Passengers\n"
     ]
    }
   ],
   "source": [
    "actor_buscado = \"Chris Pratt\"  # Nombre del actor que deseas buscar\n",
    "resultados = buscar_actor(actor_buscado)  # credits_df y movies_df son tus DataFrames\n",
    "\n",
    "print(f\"Películas en las que ha participado {actor_buscado}:\")\n",
    "for titulo in resultados:\n",
    "    print(titulo)\n"
   ]
  },
  {
   "cell_type": "code",
   "execution_count": null,
   "metadata": {},
   "outputs": [],
   "source": [
    "    \n",
    "#3\n",
    "@app.get('/franquicia/{franquicia}')\n",
    "def franquicia(franquicia:str):\n",
    "    # Filtrar el DataFrame original para incluir solo filas con información sobre la franquicia\n",
    "    franquicia_df = df[(df['belongs_to_collection'].notna()) & (df['belongs_to_collection'].str.contains(franquicia))]\n",
    "    \n",
    "    # si hay nulos\n",
    "    if franquicia_df.empty:\n",
    "        return \"No se encontro la franquicia\"\n",
    "    \n",
    "    # Obtener la cantidad de películas, la ganancia total y la ganancia promedio\n",
    "    cantidad = franquicia_df.shape[0]\n",
    "    ganancia_total = franquicia_df['revenue'].sum()\n",
    "    ganancia_promedio = ganancia_total / cantidad\n",
    "    \n",
    "    # Retornar la información en un diccionario\n",
    "    return {'franquicia': franquicia, 'cantidad': cantidad, 'ganancia_total': ganancia_total, 'ganancia_promedio': ganancia_promedio}\n",
    "\n",
    "#4\n",
    "@app.get('/peliculas_pais/{pais}')\n",
    "def peliculas_pais(pais:str):\n",
    "    # Contar el número de películas que se hicieron en el país especificado\n",
    "    num_peliculas = len(df[df['production_countries'].str.contains(pais)])\n",
    "    \n",
    "    # Crear un diccionario que contenga el país y el número de películas\n",
    "    return {'pais': pais, 'cantidad': num_peliculas}\n",
    "\n",
    "#5\n",
    "@app.get('/productoras/{productora}')\n",
    "def productoras(productora:str):    \n",
    "    df_filtrado = df[df['production_companies'].str.contains(productora, na=False)]\n",
    "    ganancia_total = df_filtrado['revenue'].sum()\n",
    "    cantidad = len(df_filtrado)\n",
    "    return {'productora': productora, 'ganancia_total': ganancia_total, 'cantidad': cantidad}\n",
    "\n",
    "#6\n",
    "@app.get('/retorno/{pelicula}')\n",
    "def retorno(pelicula:str):\n",
    "    # Filtro la información de la película en base a su título\n",
    "    pelicula_info = df[df['title'] == pelicula].iloc[0]\n",
    "    \n",
    "    # Obtengo la inversión, ganancia, retorno y año de lanzamiento de la película\n",
    "    inversion = int(pelicula_info['budget'])\n",
    "    ganancia = int(pelicula_info['revenue'])\n",
    "    retorno = int(pelicula_info['return'])\n",
    "    anio = int(pelicula_info['release_year'])\n",
    "    \n",
    "    # Retorno la información en un diccionario\n",
    "    return {'pelicula': pelicula, 'inversion': inversion, 'ganancia': ganancia, 'retorno': retorno, 'anio': anio}\n",
    "\n",
    "# ML. MODELO DE RECOMENDACIÓN\n",
    "@app.get('/recomendacion/{titulo}')\n",
    "def recomendacion(titulo:str):\n",
    "    # Buscar la fila correspondiente al título de la película\n",
    "    idx = Df.index[Df[\"title\"].str.lower() == titulo.lower()].tolist()\n",
    "    if len(idx) == 0:\n",
    "        return \"Película no encontrada\"\n",
    "    else:\n",
    "        idx = idx[0]\n",
    "    \n",
    "    # Calcular la similitud de la película con todas las demás películas\n",
    "    sim_scores = list(enumerate(cosine_sim[idx]))\n",
    "    \n",
    "    # Ordenar las películas según su similitud y seleccionar las 5 más similares\n",
    "    sim_scores = sorted(sim_scores, key=lambda x: x[1], reverse=True)[1:6]\n",
    "    \n",
    "    # Obtener los índices de las películas recomendadas\n",
    "    movie_indices = [i[0] for i in sim_scores]\n",
    "    \n",
    "    # Devolver los títulos de las películas recomendadas\n",
    "    return list(Df[\"title\"].iloc[movie_indices])\n",
    "   "
   ]
  }
 ],
 "metadata": {
  "kernelspec": {
   "display_name": "Python 3",
   "language": "python",
   "name": "python3"
  },
  "language_info": {
   "codemirror_mode": {
    "name": "ipython",
    "version": 3
   },
   "file_extension": ".py",
   "mimetype": "text/x-python",
   "name": "python",
   "nbconvert_exporter": "python",
   "pygments_lexer": "ipython3",
   "version": "3.10.11"
  },
  "orig_nbformat": 4
 },
 "nbformat": 4,
 "nbformat_minor": 2
}
